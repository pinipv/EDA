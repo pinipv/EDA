{
 "cells": [
  {
   "cell_type": "markdown",
   "metadata": {},
   "source": [
    "Conocer datos\n",
    "\n",
    "df.info(verbose=True)  Imprime todo, sin maximos de linea o columna predefinidos"
   ]
  },
  {
   "cell_type": "markdown",
   "metadata": {},
   "source": [
    "2-Sabiendo columnas con datos nulos, decidir si eliminar(columnas o filas) o rellenarlos"
   ]
  },
  {
   "cell_type": "markdown",
   "metadata": {},
   "source": [
    "3- Acceder a valores nulos ====>  df[df.columna.isnull()==True]"
   ]
  },
  {
   "cell_type": "markdown",
   "metadata": {},
   "source": [
    "Eliminar filas segun valor en columnas\n",
    "\n",
    "df=df.drop(df[df.columna.isnull()==True].index, axis=0)"
   ]
  },
  {
   "cell_type": "markdown",
   "metadata": {},
   "source": [
    "En caso de ser digitos los valores \n",
    "\n",
    "\n",
    "### Hacemos una prueba a ver si encontramos alguna correlacion evidente\n",
    "\n",
    "correlacion= netflix.iloc[::].corr()\n",
    "\n",
    "f, ax = plt.subplots(figsize=(15,10))\n",
    "\n",
    "sns.heatmap(correlacion, center=0,annot=True)"
   ]
  }
 ],
 "metadata": {
  "language_info": {
   "name": "python"
  },
  "orig_nbformat": 4
 },
 "nbformat": 4,
 "nbformat_minor": 2
}
