{
 "cells": [
  {
   "cell_type": "markdown",
   "metadata": {},
   "source": [
    "### Imports"
   ]
  },
  {
   "cell_type": "code",
   "execution_count": 60,
   "metadata": {},
   "outputs": [],
   "source": [
    "import pandas as pd\n",
    "import matplotlib.pyplot as plt\n",
    "import seaborn as sns\n",
    "\n",
    "%matplotlib inline"
   ]
  },
  {
   "cell_type": "markdown",
   "metadata": {},
   "source": [
    "#### Recogida Datos"
   ]
  },
  {
   "cell_type": "code",
   "execution_count": 61,
   "metadata": {},
   "outputs": [],
   "source": [
    "### Esta informacion se dejo de actualizar en 2018\n",
    "videojuegos=pd.read_csv('./data/ventas_videojuegos.csv')        ### Los juegos mas vendidos en japon son el genero bla bla, los mas vendidos en NA(norte america) son del genero bla bla\n",
    "                                                                ### link de descarga: https://www.kaggle.com/datasets/migeruj/videogames-predictive-model"
   ]
  },
  {
   "cell_type": "markdown",
   "metadata": {},
   "source": [
    "Para los videojuegos solo voy a tener en cuenta aquellos que superaron el millon en ventas en todo el mundo"
   ]
  },
  {
   "cell_type": "code",
   "execution_count": 62,
   "metadata": {},
   "outputs": [
    {
     "data": {
      "text/html": [
       "<div>\n",
       "<style scoped>\n",
       "    .dataframe tbody tr th:only-of-type {\n",
       "        vertical-align: middle;\n",
       "    }\n",
       "\n",
       "    .dataframe tbody tr th {\n",
       "        vertical-align: top;\n",
       "    }\n",
       "\n",
       "    .dataframe thead th {\n",
       "        text-align: right;\n",
       "    }\n",
       "</style>\n",
       "<table border=\"1\" class=\"dataframe\">\n",
       "  <thead>\n",
       "    <tr style=\"text-align: right;\">\n",
       "      <th></th>\n",
       "      <th>Platform</th>\n",
       "      <th>Genre</th>\n",
       "      <th>Publisher</th>\n",
       "      <th>NA_Sales</th>\n",
       "      <th>EU_Sales</th>\n",
       "      <th>JP_Sales</th>\n",
       "      <th>Other_Sales</th>\n",
       "      <th>Global_Sales</th>\n",
       "      <th>Rating</th>\n",
       "      <th>Critic_Score_Class</th>\n",
       "    </tr>\n",
       "  </thead>\n",
       "  <tbody>\n",
       "    <tr>\n",
       "      <th>0</th>\n",
       "      <td>Wii</td>\n",
       "      <td>Sports</td>\n",
       "      <td>Nintendo</td>\n",
       "      <td>41,36</td>\n",
       "      <td>28,96</td>\n",
       "      <td>3,77</td>\n",
       "      <td>8,45</td>\n",
       "      <td>825400000.0</td>\n",
       "      <td>E</td>\n",
       "      <td>Bueno</td>\n",
       "    </tr>\n",
       "    <tr>\n",
       "      <th>1</th>\n",
       "      <td>Wii</td>\n",
       "      <td>Racing</td>\n",
       "      <td>Nintendo</td>\n",
       "      <td>15,68</td>\n",
       "      <td>12,8</td>\n",
       "      <td>3,79</td>\n",
       "      <td>3,29</td>\n",
       "      <td>355700000.0</td>\n",
       "      <td>E</td>\n",
       "      <td>Excelente</td>\n",
       "    </tr>\n",
       "    <tr>\n",
       "      <th>2</th>\n",
       "      <td>Wii</td>\n",
       "      <td>Sports</td>\n",
       "      <td>Nintendo</td>\n",
       "      <td>15,61</td>\n",
       "      <td>10,95</td>\n",
       "      <td>3,28</td>\n",
       "      <td>2,95</td>\n",
       "      <td>327800000.0</td>\n",
       "      <td>E</td>\n",
       "      <td>Excelente</td>\n",
       "    </tr>\n",
       "    <tr>\n",
       "      <th>3</th>\n",
       "      <td>DS</td>\n",
       "      <td>Platform</td>\n",
       "      <td>Nintendo</td>\n",
       "      <td>11,28</td>\n",
       "      <td>9,15</td>\n",
       "      <td>6,5</td>\n",
       "      <td>2,88</td>\n",
       "      <td>298100000.0</td>\n",
       "      <td>E</td>\n",
       "      <td>Excelente</td>\n",
       "    </tr>\n",
       "    <tr>\n",
       "      <th>4</th>\n",
       "      <td>Wii</td>\n",
       "      <td>Misc</td>\n",
       "      <td>Nintendo</td>\n",
       "      <td>13,96</td>\n",
       "      <td>9,18</td>\n",
       "      <td>2,93</td>\n",
       "      <td>2,84</td>\n",
       "      <td>289200000.0</td>\n",
       "      <td>E</td>\n",
       "      <td>Malo</td>\n",
       "    </tr>\n",
       "    <tr>\n",
       "      <th>...</th>\n",
       "      <td>...</td>\n",
       "      <td>...</td>\n",
       "      <td>...</td>\n",
       "      <td>...</td>\n",
       "      <td>...</td>\n",
       "      <td>...</td>\n",
       "      <td>...</td>\n",
       "      <td>...</td>\n",
       "      <td>...</td>\n",
       "      <td>...</td>\n",
       "    </tr>\n",
       "    <tr>\n",
       "      <th>5382</th>\n",
       "      <td>PS3</td>\n",
       "      <td>Fighting</td>\n",
       "      <td>Konami Digital Entertainment</td>\n",
       "      <td>0,1</td>\n",
       "      <td>0</td>\n",
       "      <td>0</td>\n",
       "      <td>0,01</td>\n",
       "      <td>1100000.0</td>\n",
       "      <td>T</td>\n",
       "      <td>Malo</td>\n",
       "    </tr>\n",
       "    <tr>\n",
       "      <th>5383</th>\n",
       "      <td>X</td>\n",
       "      <td>Shooter</td>\n",
       "      <td>Electronic Arts</td>\n",
       "      <td>0,08</td>\n",
       "      <td>0,02</td>\n",
       "      <td>0</td>\n",
       "      <td>0</td>\n",
       "      <td>1100000.0</td>\n",
       "      <td>M</td>\n",
       "      <td>Malo</td>\n",
       "    </tr>\n",
       "    <tr>\n",
       "      <th>5384</th>\n",
       "      <td>X360</td>\n",
       "      <td>Adventure</td>\n",
       "      <td>Namco Bandai Games</td>\n",
       "      <td>0,05</td>\n",
       "      <td>0,04</td>\n",
       "      <td>0</td>\n",
       "      <td>0,01</td>\n",
       "      <td>1100000.0</td>\n",
       "      <td>E10+</td>\n",
       "      <td>Aceptable</td>\n",
       "    </tr>\n",
       "    <tr>\n",
       "      <th>5385</th>\n",
       "      <td>DS</td>\n",
       "      <td>Simulation</td>\n",
       "      <td>Atlus</td>\n",
       "      <td>0,1</td>\n",
       "      <td>0</td>\n",
       "      <td>0</td>\n",
       "      <td>0,01</td>\n",
       "      <td>1100000.0</td>\n",
       "      <td>T</td>\n",
       "      <td>Bueno</td>\n",
       "    </tr>\n",
       "    <tr>\n",
       "      <th>5386</th>\n",
       "      <td>GBA</td>\n",
       "      <td>Simulation</td>\n",
       "      <td>Zoo Digital Publishing</td>\n",
       "      <td>0,08</td>\n",
       "      <td>0,03</td>\n",
       "      <td>0</td>\n",
       "      <td>0</td>\n",
       "      <td>1100000.0</td>\n",
       "      <td>E</td>\n",
       "      <td>Aceptable</td>\n",
       "    </tr>\n",
       "  </tbody>\n",
       "</table>\n",
       "<p>5387 rows × 10 columns</p>\n",
       "</div>"
      ],
      "text/plain": [
       "     Platform       Genre                     Publisher NA_Sales EU_Sales  \\\n",
       "0         Wii      Sports                      Nintendo    41,36    28,96   \n",
       "1         Wii      Racing                      Nintendo    15,68     12,8   \n",
       "2         Wii      Sports                      Nintendo    15,61    10,95   \n",
       "3          DS    Platform                      Nintendo    11,28     9,15   \n",
       "4         Wii        Misc                      Nintendo    13,96     9,18   \n",
       "...       ...         ...                           ...      ...      ...   \n",
       "5382      PS3    Fighting  Konami Digital Entertainment      0,1        0   \n",
       "5383        X     Shooter               Electronic Arts     0,08     0,02   \n",
       "5384     X360   Adventure            Namco Bandai Games     0,05     0,04   \n",
       "5385       DS  Simulation                         Atlus      0,1        0   \n",
       "5386      GBA  Simulation        Zoo Digital Publishing     0,08     0,03   \n",
       "\n",
       "     JP_Sales Other_Sales  Global_Sales Rating Critic_Score_Class  \n",
       "0        3,77        8,45   825400000.0      E              Bueno  \n",
       "1        3,79        3,29   355700000.0      E          Excelente  \n",
       "2        3,28        2,95   327800000.0      E          Excelente  \n",
       "3         6,5        2,88   298100000.0      E          Excelente  \n",
       "4        2,93        2,84   289200000.0      E               Malo  \n",
       "...       ...         ...           ...    ...                ...  \n",
       "5382        0        0,01     1100000.0      T               Malo  \n",
       "5383        0           0     1100000.0      M               Malo  \n",
       "5384        0        0,01     1100000.0   E10+          Aceptable  \n",
       "5385        0        0,01     1100000.0      T              Bueno  \n",
       "5386        0           0     1100000.0      E          Aceptable  \n",
       "\n",
       "[5387 rows x 10 columns]"
      ]
     },
     "execution_count": 62,
     "metadata": {},
     "output_type": "execute_result"
    }
   ],
   "source": [
    "###datos \"Sales\" estan en millones\n",
    "\n",
    "### Eliminamos las filas donde no hay datos de ventas globales\n",
    "videojuegos_pagados= videojuegos[videojuegos.Global_Sales != \"\"] \n",
    "\n",
    "###Formateamos la cantidad para que se separen los decimales por puntos\n",
    "videojuegos_pagados.Global_Sales= [i.replace(\",\",\".\") for i in videojuegos_pagados.Global_Sales]\n",
    "\n",
    "###Convertimos la cantidad en float y la transformamos a millones\n",
    "videojuegos_pagados.Global_Sales= [float(i)*10e6 for i in videojuegos_pagados.Global_Sales]\n",
    "\n",
    "###Mantenemos solo los que han obtenido mas de 1_000_000 en ventas\n",
    "videojuegos_pagados[videojuegos_pagados.Global_Sales >1_000_000]\n",
    "\n",
    "###Dos celdas de codigo mas abajo se hace lo mismo en JP_Sales en una sola linea"
   ]
  },
  {
   "cell_type": "code",
   "execution_count": 39,
   "metadata": {},
   "outputs": [
    {
     "data": {
      "text/plain": [
       "'print(\"PLatform\",videojuegos_pagados.Platform.describe(),end=\\'\\n\\n\\')\\nprint(\"Genre\",videojuegos_pagados.Genre.describe(),end=\\'\\n\\n\\')\\nprint(\"Publisher\",videojuegos_pagados.Publisher.describe(),end=\\'\\n\\n\\')\\nprint(\"NA_Sales\",videojuegos_pagados.NA_Sales.describe(),end=\\'\\n\\n\\')\\nprint(\"EU\",videojuegos_pagados.EU_Sales.describe(),end=\\'\\n\\n\\')\\nprint(\"JP\",videojuegos_pagados.JP_Sales.describe(),end=\\'\\n\\n\\')\\nprint(\"Other_Sales\",videojuegos_pagados.Other_Sales.describe(),end=\\'\\n\\n\\')\\nprint(\"GLobal_Sales\",videojuegos_pagados.Global_Sales.describe(),end=\\'\\n\\n\\')\\nprint(\"Rating\",videojuegos_pagados.Rating.describe(),end=\\'\\n\\n\\')\\nprint(\"Critics\",videojuegos_pagados.Critic_Score_Class.describe(),end=\\'\\n\\n\\')\\n\\n'"
      ]
     },
     "execution_count": 39,
     "metadata": {},
     "output_type": "execute_result"
    }
   ],
   "source": [
    "'''print(\"PLatform\",videojuegos_pagados.Platform.describe(),end='\\n\\n')\n",
    "print(\"Genre\",videojuegos_pagados.Genre.describe(),end='\\n\\n')\n",
    "print(\"Publisher\",videojuegos_pagados.Publisher.describe(),end='\\n\\n')\n",
    "print(\"NA_Sales\",videojuegos_pagados.NA_Sales.describe(),end='\\n\\n')\n",
    "print(\"EU\",videojuegos_pagados.EU_Sales.describe(),end='\\n\\n')\n",
    "print(\"JP\",videojuegos_pagados.JP_Sales.describe(),end='\\n\\n')\n",
    "print(\"Other_Sales\",videojuegos_pagados.Other_Sales.describe(),end='\\n\\n')\n",
    "print(\"GLobal_Sales\",videojuegos_pagados.Global_Sales.describe(),end='\\n\\n')\n",
    "print(\"Rating\",videojuegos_pagados.Rating.describe(),end='\\n\\n')\n",
    "print(\"Critics\",videojuegos_pagados.Critic_Score_Class.describe(),end='\\n\\n')\n",
    "\n",
    "'''"
   ]
  },
  {
   "cell_type": "markdown",
   "metadata": {},
   "source": [
    "#### Limpieza y formateo JP_Sales, NA_Sales, EU_Sales"
   ]
  },
  {
   "cell_type": "code",
   "execution_count": 63,
   "metadata": {},
   "outputs": [],
   "source": [
    "videojuegos_pagados= videojuegos_pagados[videojuegos_pagados.JP_Sales != \"\"]\n",
    "videojuegos_pagados.JP_Sales= [(float(i.replace(',','.')))*10e6 for i in videojuegos_pagados.JP_Sales]\n",
    "\n",
    "\n",
    "videojuegos_pagados= videojuegos_pagados[videojuegos_pagados.NA_Sales != \"\"]\n",
    "videojuegos_pagados.NA_Sales= [(float(i.replace(',','.')))*10e6 for i in videojuegos_pagados.NA_Sales]\n",
    "\n",
    "videojuegos_pagados= videojuegos_pagados[videojuegos_pagados.EU_Sales != \"\"]\n",
    "videojuegos_pagados.EU_Sales= [(float(i.replace(',','.')))*10e6 for i in videojuegos_pagados.EU_Sales]\n"
   ]
  },
  {
   "cell_type": "code",
   "execution_count": 41,
   "metadata": {},
   "outputs": [
    {
     "data": {
      "text/plain": [
       "array(['Bueno', 'Excelente', 'Malo', 'Aceptable'], dtype=object)"
      ]
     },
     "execution_count": 41,
     "metadata": {},
     "output_type": "execute_result"
    }
   ],
   "source": [
    "###Obtencio valores unicos de columna 'Critic_Score_Class'\n",
    "videojuegos_pagados.Critic_Score_Class.unique()"
   ]
  },
  {
   "cell_type": "code",
   "execution_count": 64,
   "metadata": {},
   "outputs": [],
   "source": [
    "###Formateo columna/valor Critic_Score_Class\n",
    "videojuegos_pagados= videojuegos_pagados[videojuegos_pagados.Critic_Score_Class != \"\"]\n",
    "\n",
    "videojuegos_pagados.Critic_Score_Class= videojuegos_pagados.Critic_Score_Class.map({\n",
    "                                                                                    'Bueno':6,\n",
    "                                                                                    'Aceptable':4,\n",
    "                                                                                    'Excelente':10,\n",
    "                                                                                    'Malo':0\n",
    "                                                                                        },\n",
    "                                                                                        na_action=None)\n"
   ]
  },
  {
   "cell_type": "code",
   "execution_count": 65,
   "metadata": {},
   "outputs": [
    {
     "data": {
      "text/plain": [
       "<AxesSubplot:>"
      ]
     },
     "execution_count": 65,
     "metadata": {},
     "output_type": "execute_result"
    },
    {
     "data": {
      "image/png": "[encoded data removed]",
      "text/plain": [
       "<Figure size 1080x720 with 2 Axes>"
      ]
     },
     "metadata": {
      "needs_background": "light"
     },
     "output_type": "display_data"
    }
   ],
   "source": [
    "##Dibujo de un mapa de calor buscando alguna correlacion evidente\n",
    "\n",
    "correlacion= videojuegos_pagados.iloc[::].corr()\n",
    "f, ax = plt.subplots(figsize=(15,10))\n",
    "sns.heatmap(correlacion, center=0,annot=True)"
   ]
  },
  {
   "cell_type": "markdown",
   "metadata": {},
   "source": [
    "## De la observacion de abajo obtenemos\n",
    "\n",
    "#### 1-A mas se venda en JP no indica mayor venta en ningun otro lugar, ni de manera global. Podriamos considerar, prematuramente, que los videojuegos japoneses en general son mas de nicho\n",
    "\n",
    "#### 2-Las ventas de NA y EU estan relacionadas, suelen ser proporcionales\n",
    "\n",
    "#### 3-A mas ventas en EU y NA mas ventas globales, puede ser territorial o que estos juegos no son tan nicho y son mas de gusto general/global"
   ]
  },
  {
   "cell_type": "code",
   "execution_count": 66,
   "metadata": {},
   "outputs": [
    {
     "data": {
      "image/png": "[encoded data removed]",
      "text/plain": [
       "<Figure size 458.25x360 with 1 Axes>"
      ]
     },
     "metadata": {
      "needs_background": "light"
     },
     "output_type": "display_data"
    },
    {
     "data": {
      "image/png": "[encoded data removed]",
      "text/plain": [
       "<Figure size 458.25x360 with 1 Axes>"
      ]
     },
     "metadata": {
      "needs_background": "light"
     },
     "output_type": "display_data"
    },
    {
     "data": {
      "image/png": "[encoded data removed]",
      "text/plain": [
       "<Figure size 458.25x360 with 1 Axes>"
      ]
     },
     "metadata": {
      "needs_background": "light"
     },
     "output_type": "display_data"
    },
    {
     "data": {
      "image/png": "[encoded data removed]",
      "text/plain": [
       "<Figure size 458.25x360 with 1 Axes>"
      ]
     },
     "metadata": {
      "needs_background": "light"
     },
     "output_type": "display_data"
    },
    {
     "data": {
      "image/png": "[encoded data removed]",
      "text/plain": [
       "<Figure size 458.25x360 with 1 Axes>"
      ]
     },
     "metadata": {
      "needs_background": "light"
     },
     "output_type": "display_data"
    },
    {
     "data": {
      "image/png": "[encoded data removed]",
      "text/plain": [
       "<Figure size 458.25x360 with 1 Axes>"
      ]
     },
     "metadata": {
      "needs_background": "light"
     },
     "output_type": "display_data"
    },
    {
     "data": {
      "image/png": "[encoded data removed]",
      "text/plain": [
       "<Figure size 458.25x360 with 1 Axes>"
      ]
     },
     "metadata": {
      "needs_background": "light"
     },
     "output_type": "display_data"
    }
   ],
   "source": [
    "###Veremos distintas relaciones\n",
    "\n",
    "####Ventas NA y JP\n",
    "\n",
    "sns.lmplot(x = \"NA_Sales\", y = \"JP_Sales\", data = videojuegos_pagados, fit_reg = False, hue = \"Critic_Score_Class\")\n",
    "sns.lmplot(x = \"EU_Sales\", y = \"JP_Sales\", data = videojuegos_pagados, fit_reg = False, hue = \"Critic_Score_Class\")\n",
    "\n",
    "\n",
    "sns.lmplot(x = \"NA_Sales\", y = \"EU_Sales\", data = videojuegos_pagados, fit_reg = False, hue = \"Critic_Score_Class\")\n",
    "\n",
    "sns.lmplot(x = \"EU_Sales\", y = \"NA_Sales\", data = videojuegos_pagados, fit_reg = False, hue = \"Critic_Score_Class\")\n",
    "\n",
    "\n",
    "sns.lmplot(x = \"Global_Sales\", y = \"JP_Sales\", data = videojuegos_pagados, fit_reg = False, hue = \"Critic_Score_Class\")\n",
    "sns.lmplot(x = \"Global_Sales\", y = \"EU_Sales\", data = videojuegos_pagados, fit_reg = False, hue = \"Critic_Score_Class\")\n",
    "sns.lmplot(x = \"Global_Sales\", y = \"NA_Sales\", data = videojuegos_pagados, fit_reg = False, hue = \"Critic_Score_Class\");\n",
    "\n",
    "#sns.jointplot(x=\"NA_Sales\", y = \"JP_Sales\", data = videojuegos_pagados);"
   ]
  },
  {
   "cell_type": "markdown",
   "metadata": {},
   "source": [
    "# Generos de videojuego por region"
   ]
  },
  {
   "cell_type": "markdown",
   "metadata": {},
   "source": [
    "### Se necesita agrupar los datos por categorias"
   ]
  },
  {
   "cell_type": "code",
   "execution_count": 67,
   "metadata": {},
   "outputs": [
    {
     "data": {
      "text/html": [
       "<div>\n",
       "<style scoped>\n",
       "    .dataframe tbody tr th:only-of-type {\n",
       "        vertical-align: middle;\n",
       "    }\n",
       "\n",
       "    .dataframe tbody tr th {\n",
       "        vertical-align: top;\n",
       "    }\n",
       "\n",
       "    .dataframe thead th {\n",
       "        text-align: right;\n",
       "    }\n",
       "</style>\n",
       "<table border=\"1\" class=\"dataframe\">\n",
       "  <thead>\n",
       "    <tr style=\"text-align: right;\">\n",
       "      <th></th>\n",
       "      <th>NA_Sales</th>\n",
       "      <th>EU_Sales</th>\n",
       "      <th>JP_Sales</th>\n",
       "      <th>Global_Sales</th>\n",
       "    </tr>\n",
       "    <tr>\n",
       "      <th>Genre</th>\n",
       "      <th></th>\n",
       "      <th></th>\n",
       "      <th></th>\n",
       "      <th></th>\n",
       "    </tr>\n",
       "  </thead>\n",
       "  <tbody>\n",
       "    <tr>\n",
       "      <th>Action</th>\n",
       "      <td>6.093400e+09</td>\n",
       "      <td>4.006400e+09</td>\n",
       "      <td>7.752000e+08</td>\n",
       "      <td>1.239480e+10</td>\n",
       "    </tr>\n",
       "    <tr>\n",
       "      <th>Adventure</th>\n",
       "      <td>3.941000e+08</td>\n",
       "      <td>2.541000e+08</td>\n",
       "      <td>8.770000e+07</td>\n",
       "      <td>8.188000e+08</td>\n",
       "    </tr>\n",
       "    <tr>\n",
       "      <th>Fighting</th>\n",
       "      <td>1.388200e+09</td>\n",
       "      <td>6.153000e+08</td>\n",
       "      <td>2.805000e+08</td>\n",
       "      <td>2.539100e+09</td>\n",
       "    </tr>\n",
       "    <tr>\n",
       "      <th>Misc</th>\n",
       "      <td>2.287200e+09</td>\n",
       "      <td>1.228200e+09</td>\n",
       "      <td>3.327000e+08</td>\n",
       "      <td>4.267300e+09</td>\n",
       "    </tr>\n",
       "    <tr>\n",
       "      <th>Platform</th>\n",
       "      <td>1.968000e+09</td>\n",
       "      <td>1.099600e+09</td>\n",
       "      <td>4.362000e+08</td>\n",
       "      <td>3.832100e+09</td>\n",
       "    </tr>\n",
       "    <tr>\n",
       "      <th>Puzzle</th>\n",
       "      <td>3.411000e+08</td>\n",
       "      <td>2.415000e+08</td>\n",
       "      <td>1.515000e+08</td>\n",
       "      <td>7.987000e+08</td>\n",
       "    </tr>\n",
       "    <tr>\n",
       "      <th>Racing</th>\n",
       "      <td>2.282500e+09</td>\n",
       "      <td>1.671900e+09</td>\n",
       "      <td>2.782000e+08</td>\n",
       "      <td>4.822600e+09</td>\n",
       "    </tr>\n",
       "    <tr>\n",
       "      <th>Role-Playing</th>\n",
       "      <td>2.229600e+09</td>\n",
       "      <td>1.222000e+09</td>\n",
       "      <td>1.253100e+09</td>\n",
       "      <td>5.118100e+09</td>\n",
       "    </tr>\n",
       "    <tr>\n",
       "      <th>Shooter</th>\n",
       "      <td>4.623500e+09</td>\n",
       "      <td>2.689200e+09</td>\n",
       "      <td>1.885000e+08</td>\n",
       "      <td>8.408400e+09</td>\n",
       "    </tr>\n",
       "    <tr>\n",
       "      <th>Simulation</th>\n",
       "      <td>9.436000e+08</td>\n",
       "      <td>7.073000e+08</td>\n",
       "      <td>2.817000e+08</td>\n",
       "      <td>2.108800e+09</td>\n",
       "    </tr>\n",
       "    <tr>\n",
       "      <th>Sports</th>\n",
       "      <td>4.739900e+09</td>\n",
       "      <td>2.543200e+09</td>\n",
       "      <td>3.467000e+08</td>\n",
       "      <td>8.602700e+09</td>\n",
       "    </tr>\n",
       "    <tr>\n",
       "      <th>Strategy</th>\n",
       "      <td>3.438000e+08</td>\n",
       "      <td>2.593000e+08</td>\n",
       "      <td>4.380000e+07</td>\n",
       "      <td>7.172000e+08</td>\n",
       "    </tr>\n",
       "  </tbody>\n",
       "</table>\n",
       "</div>"
      ],
      "text/plain": [
       "                  NA_Sales      EU_Sales      JP_Sales  Global_Sales\n",
       "Genre                                                               \n",
       "Action        6.093400e+09  4.006400e+09  7.752000e+08  1.239480e+10\n",
       "Adventure     3.941000e+08  2.541000e+08  8.770000e+07  8.188000e+08\n",
       "Fighting      1.388200e+09  6.153000e+08  2.805000e+08  2.539100e+09\n",
       "Misc          2.287200e+09  1.228200e+09  3.327000e+08  4.267300e+09\n",
       "Platform      1.968000e+09  1.099600e+09  4.362000e+08  3.832100e+09\n",
       "Puzzle        3.411000e+08  2.415000e+08  1.515000e+08  7.987000e+08\n",
       "Racing        2.282500e+09  1.671900e+09  2.782000e+08  4.822600e+09\n",
       "Role-Playing  2.229600e+09  1.222000e+09  1.253100e+09  5.118100e+09\n",
       "Shooter       4.623500e+09  2.689200e+09  1.885000e+08  8.408400e+09\n",
       "Simulation    9.436000e+08  7.073000e+08  2.817000e+08  2.108800e+09\n",
       "Sports        4.739900e+09  2.543200e+09  3.467000e+08  8.602700e+09\n",
       "Strategy      3.438000e+08  2.593000e+08  4.380000e+07  7.172000e+08"
      ]
     },
     "execution_count": 67,
     "metadata": {},
     "output_type": "execute_result"
    }
   ],
   "source": [
    "###Elimino las columnas ajenas a esta representacion y no cuantitativas para evitar problemas al agrupar\n",
    "videojuegos_ventas_GJ=videojuegos_pagados.drop(['Platform','Publisher','Rating','Critic_Score_Class'],axis=1)\n",
    "videojuegos_ventas_GJ=videojuegos_ventas_GJ.groupby('Genre').sum()\n",
    "videojuegos_ventas_GJ\n",
    "\n"
   ]
  },
  {
   "cell_type": "markdown",
   "metadata": {},
   "source": [
    "### Eliminamos la fila 'Action', ya que considero que es una hipercategoria que engloba otras ya mostradas"
   ]
  },
  {
   "cell_type": "code",
   "execution_count": 77,
   "metadata": {},
   "outputs": [
    {
     "data": {
      "text/html": [
       "<div>\n",
       "<style scoped>\n",
       "    .dataframe tbody tr th:only-of-type {\n",
       "        vertical-align: middle;\n",
       "    }\n",
       "\n",
       "    .dataframe tbody tr th {\n",
       "        vertical-align: top;\n",
       "    }\n",
       "\n",
       "    .dataframe thead th {\n",
       "        text-align: right;\n",
       "    }\n",
       "</style>\n",
       "<table border=\"1\" class=\"dataframe\">\n",
       "  <thead>\n",
       "    <tr style=\"text-align: right;\">\n",
       "      <th></th>\n",
       "      <th>NA_Sales</th>\n",
       "      <th>EU_Sales</th>\n",
       "      <th>JP_Sales</th>\n",
       "      <th>Global_Sales</th>\n",
       "    </tr>\n",
       "    <tr>\n",
       "      <th>Genre</th>\n",
       "      <th></th>\n",
       "      <th></th>\n",
       "      <th></th>\n",
       "      <th></th>\n",
       "    </tr>\n",
       "  </thead>\n",
       "  <tbody>\n",
       "    <tr>\n",
       "      <th>Adventure</th>\n",
       "      <td>3.941000e+08</td>\n",
       "      <td>2.541000e+08</td>\n",
       "      <td>8.770000e+07</td>\n",
       "      <td>8.188000e+08</td>\n",
       "    </tr>\n",
       "    <tr>\n",
       "      <th>Fighting</th>\n",
       "      <td>1.388200e+09</td>\n",
       "      <td>6.153000e+08</td>\n",
       "      <td>2.805000e+08</td>\n",
       "      <td>2.539100e+09</td>\n",
       "    </tr>\n",
       "    <tr>\n",
       "      <th>Misc</th>\n",
       "      <td>2.287200e+09</td>\n",
       "      <td>1.228200e+09</td>\n",
       "      <td>3.327000e+08</td>\n",
       "      <td>4.267300e+09</td>\n",
       "    </tr>\n",
       "    <tr>\n",
       "      <th>Platform</th>\n",
       "      <td>1.968000e+09</td>\n",
       "      <td>1.099600e+09</td>\n",
       "      <td>4.362000e+08</td>\n",
       "      <td>3.832100e+09</td>\n",
       "    </tr>\n",
       "    <tr>\n",
       "      <th>Puzzle</th>\n",
       "      <td>3.411000e+08</td>\n",
       "      <td>2.415000e+08</td>\n",
       "      <td>1.515000e+08</td>\n",
       "      <td>7.987000e+08</td>\n",
       "    </tr>\n",
       "    <tr>\n",
       "      <th>Racing</th>\n",
       "      <td>2.282500e+09</td>\n",
       "      <td>1.671900e+09</td>\n",
       "      <td>2.782000e+08</td>\n",
       "      <td>4.822600e+09</td>\n",
       "    </tr>\n",
       "    <tr>\n",
       "      <th>Role-Playing</th>\n",
       "      <td>2.229600e+09</td>\n",
       "      <td>1.222000e+09</td>\n",
       "      <td>1.253100e+09</td>\n",
       "      <td>5.118100e+09</td>\n",
       "    </tr>\n",
       "    <tr>\n",
       "      <th>Shooter</th>\n",
       "      <td>4.623500e+09</td>\n",
       "      <td>2.689200e+09</td>\n",
       "      <td>1.885000e+08</td>\n",
       "      <td>8.408400e+09</td>\n",
       "    </tr>\n",
       "    <tr>\n",
       "      <th>Simulation</th>\n",
       "      <td>9.436000e+08</td>\n",
       "      <td>7.073000e+08</td>\n",
       "      <td>2.817000e+08</td>\n",
       "      <td>2.108800e+09</td>\n",
       "    </tr>\n",
       "    <tr>\n",
       "      <th>Sports</th>\n",
       "      <td>4.739900e+09</td>\n",
       "      <td>2.543200e+09</td>\n",
       "      <td>3.467000e+08</td>\n",
       "      <td>8.602700e+09</td>\n",
       "    </tr>\n",
       "    <tr>\n",
       "      <th>Strategy</th>\n",
       "      <td>3.438000e+08</td>\n",
       "      <td>2.593000e+08</td>\n",
       "      <td>4.380000e+07</td>\n",
       "      <td>7.172000e+08</td>\n",
       "    </tr>\n",
       "  </tbody>\n",
       "</table>\n",
       "</div>"
      ],
      "text/plain": [
       "                  NA_Sales      EU_Sales      JP_Sales  Global_Sales\n",
       "Genre                                                               \n",
       "Adventure     3.941000e+08  2.541000e+08  8.770000e+07  8.188000e+08\n",
       "Fighting      1.388200e+09  6.153000e+08  2.805000e+08  2.539100e+09\n",
       "Misc          2.287200e+09  1.228200e+09  3.327000e+08  4.267300e+09\n",
       "Platform      1.968000e+09  1.099600e+09  4.362000e+08  3.832100e+09\n",
       "Puzzle        3.411000e+08  2.415000e+08  1.515000e+08  7.987000e+08\n",
       "Racing        2.282500e+09  1.671900e+09  2.782000e+08  4.822600e+09\n",
       "Role-Playing  2.229600e+09  1.222000e+09  1.253100e+09  5.118100e+09\n",
       "Shooter       4.623500e+09  2.689200e+09  1.885000e+08  8.408400e+09\n",
       "Simulation    9.436000e+08  7.073000e+08  2.817000e+08  2.108800e+09\n",
       "Sports        4.739900e+09  2.543200e+09  3.467000e+08  8.602700e+09\n",
       "Strategy      3.438000e+08  2.593000e+08  4.380000e+07  7.172000e+08"
      ]
     },
     "execution_count": 77,
     "metadata": {},
     "output_type": "execute_result"
    }
   ],
   "source": [
    "videojuegos_ventas_GJ.drop(videojuegos_ventas_GJ.index[[0]], inplace=True)\n",
    "videojuegos_ventas_GJ"
   ]
  },
  {
   "cell_type": "markdown",
   "metadata": {},
   "source": [
    "### Primer histograma relacion genero-ventasglobales y genero-ventas Japon"
   ]
  },
  {
   "cell_type": "code",
   "execution_count": 78,
   "metadata": {},
   "outputs": [
    {
     "name": "stderr",
     "output_type": "stream",
     "text": [
      "No artists with labels found to put in legend.  Note that artists whose label start with an underscore are ignored when legend() is called with no argument.\n"
     ]
    },
    {
     "data": {
      "text/plain": [
       "<matplotlib.legend.Legend at 0x232694ae020>"
      ]
     },
     "execution_count": 78,
     "metadata": {},
     "output_type": "execute_result"
    },
    {
     "data": {
      "image/png": "[encoded data removed]",
      "text/plain": [
       "<Figure size 1440x576 with 1 Axes>"
      ]
     },
     "metadata": {
      "needs_background": "light"
     },
     "output_type": "display_data"
    },
    {
     "data": {
      "image/png": "[encoded data removed]",
      "text/plain": [
       "<Figure size 1440x576 with 1 Axes>"
      ]
     },
     "metadata": {
      "needs_background": "light"
     },
     "output_type": "display_data"
    },
    {
     "data": {
      "image/png": "[encoded data removed]",
      "text/plain": [
       "<Figure size 1440x576 with 1 Axes>"
      ]
     },
     "metadata": {
      "needs_background": "light"
     },
     "output_type": "display_data"
    },
    {
     "data": {
      "image/png": "[encoded data removed]",
      "text/plain": [
       "<Figure size 1440x576 with 1 Axes>"
      ]
     },
     "metadata": {
      "needs_background": "light"
     },
     "output_type": "display_data"
    }
   ],
   "source": [
    "###Creamos una figura con pyplot\n",
    "plt.figure(figsize=(20,8))\n",
    "\"\"\"\n",
    "###Dibujamos el primer histograma con las ventas globales\n",
    "sns.distplot(videojuegos_ventas_GJ['Global_Sales'], color='skyblue', label='Ventas Globales',ax=axes[0,0])\n",
    "\n",
    "###Dibujamos el segundo histograma con las ventas en japon\n",
    "sns.distplot(videojuegos_ventas_GJ['JP_Sales'], color='red', label='Ventas en Japon')\n",
    "\"\"\"\n",
    "plt.title('Ventas Japon')\n",
    "plt.xlabel(\"Generos\")\n",
    "plt.ylabel(\"Ventas\")\n",
    "plt.bar(x=videojuegos_ventas_GJ.index, height=videojuegos_ventas_GJ.JP_Sales,color='black')\n",
    "\n",
    "plt.figure(figsize=(20,8))\n",
    "plt.title('Ventas NorteAmerica (seguramente shooters)')\n",
    "plt.xlabel(\"Generos\")\n",
    "plt.ylabel(\"Ventas\")\n",
    "plt.bar(x=videojuegos_ventas_GJ.index, height=videojuegos_ventas_GJ.NA_Sales,color='red')\n",
    "\n",
    "plt.figure(figsize=(20,8))\n",
    "plt.title('Ventas Europa')\n",
    "plt.xlabel(\"Generos\")\n",
    "plt.ylabel(\"Ventas\")\n",
    "plt.bar(x=videojuegos_ventas_GJ.index, height=videojuegos_ventas_GJ.EU_Sales,color='blue')\n",
    "\n",
    "plt.figure(figsize=(20,8))\n",
    "plt.title(\"Ventas globales\")\n",
    "plt.bar(x=videojuegos_ventas_GJ.index, height=videojuegos_ventas_GJ.Global_Sales,color='green')\n",
    "\n",
    "plt.legend()"
   ]
  },
  {
   "cell_type": "markdown",
   "metadata": {},
   "source": [
    "### Se comprueba que los juegos mas vendidos en Japon son los juegos Role-Play hasta 2018\n",
    "### Se comprueba que en NA y EU los generos mas vendidos, casi a la par, son shooter y deportes"
   ]
  },
  {
   "cell_type": "markdown",
   "metadata": {},
   "source": [
    "# Plataforma con mas ventas segun los annnos"
   ]
  },
  {
   "cell_type": "markdown",
   "metadata": {},
   "source": [
    "### Esta parte esta con otro dataset que contaba con annos de salida al mercado"
   ]
  },
  {
   "cell_type": "code",
   "execution_count": 79,
   "metadata": {},
   "outputs": [],
   "source": [
    "videojuegos=pd.read_csv('./data/vgsales.csv') "
   ]
  },
  {
   "cell_type": "markdown",
   "metadata": {},
   "source": [
    "### Formateamos datos de ventas a millones\n",
    "\n",
    "Falta eliminar datos vacios"
   ]
  },
  {
   "cell_type": "code",
   "execution_count": 80,
   "metadata": {},
   "outputs": [],
   "source": [
    "\n",
    "videojuegos_pagados= videojuegos[videojuegos.Global_Sales != \"\"] \n",
    "\n",
    "\n",
    "videojuegos_pagados.Global_Sales= [float(i)*10e6 for i in videojuegos_pagados.Global_Sales]\n",
    "\n",
    "\n",
    "videojuegos_pagados[videojuegos_pagados.Global_Sales >1_000_000]\n",
    "\n",
    "\n",
    "videojuegos_pagados= videojuegos_pagados[videojuegos_pagados.JP_Sales != \"\"]\n",
    "videojuegos_pagados.JP_Sales= [(float(i))*10e6 for i in videojuegos_pagados.JP_Sales]\n",
    "\n",
    "\n",
    "videojuegos_pagados= videojuegos_pagados[videojuegos_pagados.NA_Sales != \"\"]\n",
    "videojuegos_pagados.NA_Sales= [(float(i))*10e6 for i in videojuegos_pagados.NA_Sales]\n",
    "\n",
    "videojuegos_pagados= videojuegos_pagados[videojuegos_pagados.EU_Sales != \"\"]\n",
    "videojuegos_pagados.EU_Sales= [(float(i))*10e6 for i in videojuegos_pagados.EU_Sales]\n"
   ]
  },
  {
   "cell_type": "markdown",
   "metadata": {},
   "source": [
    "#### Agrupamos datos segun plataforma y anno"
   ]
  },
  {
   "cell_type": "code",
   "execution_count": 81,
   "metadata": {},
   "outputs": [],
   "source": [
    "videojuegos_ventas_GJ=videojuegos_pagados.drop(['Genre','Publisher','Rank','Name'],axis=1)\n",
    "videojuegos_ventas_GJ=videojuegos_ventas_GJ.groupby(['Platform','Year']).sum()\n",
    "videojuegos_ventas_GJ=videojuegos_ventas_GJ#.unstack()"
   ]
  },
  {
   "cell_type": "code",
   "execution_count": 82,
   "metadata": {},
   "outputs": [
    {
     "data": {
      "text/plain": [
       "<bound method DataFrame.info of                     NA_Sales     EU_Sales   JP_Sales  Other_Sales  \\\n",
       "Platform Year                                                       \n",
       "2600     1980.0  105900000.0    6700000.0        0.0         0.12   \n",
       "         1981.0  334000000.0   19600000.0        0.0         0.32   \n",
       "         1982.0  269200000.0   16500000.0        0.0         0.31   \n",
       "         1983.0   54400000.0    3400000.0        0.0         0.06   \n",
       "         1984.0    2600000.0     100000.0        0.0         0.00   \n",
       "...                      ...          ...        ...          ...   \n",
       "XB       2008.0    1300000.0     400000.0        0.0         0.01   \n",
       "XOne     2013.0  118000000.0   52900000.0   200000.0         1.50   \n",
       "         2014.0  304100000.0  177500000.0  1400000.0         4.14   \n",
       "         2015.0  342900000.0  179800000.0  1700000.0         5.23   \n",
       "         2016.0   66900000.0   46300000.0   100000.0         1.05   \n",
       "\n",
       "                 Global_Sales  \n",
       "Platform Year                  \n",
       "2600     1980.0   113800000.0  \n",
       "         1981.0   357700000.0  \n",
       "         1982.0   288600000.0  \n",
       "         1983.0    58300000.0  \n",
       "         1984.0     2700000.0  \n",
       "...                       ...  \n",
       "XB       2008.0     1800000.0  \n",
       "XOne     2013.0   186000000.0  \n",
       "         2014.0   524300000.0  \n",
       "         2015.0   576600000.0  \n",
       "         2016.0   123700000.0  \n",
       "\n",
       "[241 rows x 5 columns]>"
      ]
     },
     "execution_count": 82,
     "metadata": {},
     "output_type": "execute_result"
    }
   ],
   "source": [
    "videojuegos_ventas_GJ.info\n"
   ]
  },
  {
   "cell_type": "markdown",
   "metadata": {},
   "source": [
    "#### Rellenamos todos los Nan con 0"
   ]
  },
  {
   "cell_type": "code",
   "execution_count": 83,
   "metadata": {},
   "outputs": [
    {
     "data": {
      "text/plain": [
       "<bound method DataFrame.info of                     NA_Sales     EU_Sales   JP_Sales  Other_Sales  \\\n",
       "Platform Year                                                       \n",
       "2600     1980.0  105900000.0    6700000.0        0.0         0.12   \n",
       "         1981.0  334000000.0   19600000.0        0.0         0.32   \n",
       "         1982.0  269200000.0   16500000.0        0.0         0.31   \n",
       "         1983.0   54400000.0    3400000.0        0.0         0.06   \n",
       "         1984.0    2600000.0     100000.0        0.0         0.00   \n",
       "...                      ...          ...        ...          ...   \n",
       "XB       2008.0    1300000.0     400000.0        0.0         0.01   \n",
       "XOne     2013.0  118000000.0   52900000.0   200000.0         1.50   \n",
       "         2014.0  304100000.0  177500000.0  1400000.0         4.14   \n",
       "         2015.0  342900000.0  179800000.0  1700000.0         5.23   \n",
       "         2016.0   66900000.0   46300000.0   100000.0         1.05   \n",
       "\n",
       "                 Global_Sales  \n",
       "Platform Year                  \n",
       "2600     1980.0   113800000.0  \n",
       "         1981.0   357700000.0  \n",
       "         1982.0   288600000.0  \n",
       "         1983.0    58300000.0  \n",
       "         1984.0     2700000.0  \n",
       "...                       ...  \n",
       "XB       2008.0     1800000.0  \n",
       "XOne     2013.0   186000000.0  \n",
       "         2014.0   524300000.0  \n",
       "         2015.0   576600000.0  \n",
       "         2016.0   123700000.0  \n",
       "\n",
       "[241 rows x 5 columns]>"
      ]
     },
     "execution_count": 83,
     "metadata": {},
     "output_type": "execute_result"
    }
   ],
   "source": [
    "videojuegos_ventas_GJ.fillna(0, inplace=True)\n",
    "videojuegos_ventas_GJ.info"
   ]
  },
  {
   "cell_type": "code",
   "execution_count": 84,
   "metadata": {},
   "outputs": [
    {
     "data": {
      "text/html": [
       "<div>\n",
       "<style scoped>\n",
       "    .dataframe tbody tr th:only-of-type {\n",
       "        vertical-align: middle;\n",
       "    }\n",
       "\n",
       "    .dataframe tbody tr th {\n",
       "        vertical-align: top;\n",
       "    }\n",
       "\n",
       "    .dataframe thead th {\n",
       "        text-align: right;\n",
       "    }\n",
       "</style>\n",
       "<table border=\"1\" class=\"dataframe\">\n",
       "  <thead>\n",
       "    <tr style=\"text-align: right;\">\n",
       "      <th></th>\n",
       "      <th>NA_Sales</th>\n",
       "      <th>EU_Sales</th>\n",
       "      <th>JP_Sales</th>\n",
       "      <th>Other_Sales</th>\n",
       "      <th>Global_Sales</th>\n",
       "    </tr>\n",
       "  </thead>\n",
       "  <tbody>\n",
       "    <tr>\n",
       "      <th>count</th>\n",
       "      <td>2.410000e+02</td>\n",
       "      <td>2.410000e+02</td>\n",
       "      <td>2.410000e+02</td>\n",
       "      <td>241.000000</td>\n",
       "      <td>2.410000e+02</td>\n",
       "    </tr>\n",
       "    <tr>\n",
       "      <th>mean</th>\n",
       "      <td>1.798104e+08</td>\n",
       "      <td>9.996349e+07</td>\n",
       "      <td>5.329046e+07</td>\n",
       "      <td>3.273900</td>\n",
       "      <td>3.659900e+08</td>\n",
       "    </tr>\n",
       "    <tr>\n",
       "      <th>std</th>\n",
       "      <td>2.517385e+08</td>\n",
       "      <td>1.479715e+08</td>\n",
       "      <td>7.444783e+07</td>\n",
       "      <td>5.846089</td>\n",
       "      <td>4.870884e+08</td>\n",
       "    </tr>\n",
       "    <tr>\n",
       "      <th>min</th>\n",
       "      <td>0.000000e+00</td>\n",
       "      <td>0.000000e+00</td>\n",
       "      <td>0.000000e+00</td>\n",
       "      <td>0.000000</td>\n",
       "      <td>2.000000e+05</td>\n",
       "    </tr>\n",
       "    <tr>\n",
       "      <th>25%</th>\n",
       "      <td>8.200000e+06</td>\n",
       "      <td>4.200000e+06</td>\n",
       "      <td>4.000000e+05</td>\n",
       "      <td>0.080000</td>\n",
       "      <td>3.290000e+07</td>\n",
       "    </tr>\n",
       "    <tr>\n",
       "      <th>50%</th>\n",
       "      <td>6.390000e+07</td>\n",
       "      <td>3.480000e+07</td>\n",
       "      <td>1.950000e+07</td>\n",
       "      <td>0.630000</td>\n",
       "      <td>1.474000e+08</td>\n",
       "    </tr>\n",
       "    <tr>\n",
       "      <th>75%</th>\n",
       "      <td>2.698000e+08</td>\n",
       "      <td>1.178000e+08</td>\n",
       "      <td>8.100000e+07</td>\n",
       "      <td>3.050000</td>\n",
       "      <td>5.009000e+08</td>\n",
       "    </tr>\n",
       "    <tr>\n",
       "      <th>max</th>\n",
       "      <td>1.165400e+09</td>\n",
       "      <td>6.527000e+08</td>\n",
       "      <td>3.856000e+08</td>\n",
       "      <td>39.850000</td>\n",
       "      <td>2.117800e+09</td>\n",
       "    </tr>\n",
       "  </tbody>\n",
       "</table>\n",
       "</div>"
      ],
      "text/plain": [
       "           NA_Sales      EU_Sales      JP_Sales  Other_Sales  Global_Sales\n",
       "count  2.410000e+02  2.410000e+02  2.410000e+02   241.000000  2.410000e+02\n",
       "mean   1.798104e+08  9.996349e+07  5.329046e+07     3.273900  3.659900e+08\n",
       "std    2.517385e+08  1.479715e+08  7.444783e+07     5.846089  4.870884e+08\n",
       "min    0.000000e+00  0.000000e+00  0.000000e+00     0.000000  2.000000e+05\n",
       "25%    8.200000e+06  4.200000e+06  4.000000e+05     0.080000  3.290000e+07\n",
       "50%    6.390000e+07  3.480000e+07  1.950000e+07     0.630000  1.474000e+08\n",
       "75%    2.698000e+08  1.178000e+08  8.100000e+07     3.050000  5.009000e+08\n",
       "max    1.165400e+09  6.527000e+08  3.856000e+08    39.850000  2.117800e+09"
      ]
     },
     "execution_count": 84,
     "metadata": {},
     "output_type": "execute_result"
    }
   ],
   "source": [
    "videojuegos_ventas_GJ.describe()"
   ]
  },
  {
   "cell_type": "code",
   "execution_count": 85,
   "metadata": {},
   "outputs": [
    {
     "data": {
      "text/html": [
       "<div>\n",
       "<style scoped>\n",
       "    .dataframe tbody tr th:only-of-type {\n",
       "        vertical-align: middle;\n",
       "    }\n",
       "\n",
       "    .dataframe tbody tr th {\n",
       "        vertical-align: top;\n",
       "    }\n",
       "\n",
       "    .dataframe thead th {\n",
       "        text-align: right;\n",
       "    }\n",
       "</style>\n",
       "<table border=\"1\" class=\"dataframe\">\n",
       "  <thead>\n",
       "    <tr style=\"text-align: right;\">\n",
       "      <th></th>\n",
       "      <th></th>\n",
       "      <th>NA_Sales</th>\n",
       "      <th>EU_Sales</th>\n",
       "      <th>JP_Sales</th>\n",
       "      <th>Other_Sales</th>\n",
       "      <th>Global_Sales</th>\n",
       "    </tr>\n",
       "    <tr>\n",
       "      <th>Platform</th>\n",
       "      <th>Year</th>\n",
       "      <th></th>\n",
       "      <th></th>\n",
       "      <th></th>\n",
       "      <th></th>\n",
       "      <th></th>\n",
       "    </tr>\n",
       "  </thead>\n",
       "  <tbody>\n",
       "    <tr>\n",
       "      <th rowspan=\"10\" valign=\"top\">2600</th>\n",
       "      <th>1980.0</th>\n",
       "      <td>105900000.0</td>\n",
       "      <td>6700000.0</td>\n",
       "      <td>0.0</td>\n",
       "      <td>0.12</td>\n",
       "      <td>113800000.0</td>\n",
       "    </tr>\n",
       "    <tr>\n",
       "      <th>1981.0</th>\n",
       "      <td>334000000.0</td>\n",
       "      <td>19600000.0</td>\n",
       "      <td>0.0</td>\n",
       "      <td>0.32</td>\n",
       "      <td>357700000.0</td>\n",
       "    </tr>\n",
       "    <tr>\n",
       "      <th>1982.0</th>\n",
       "      <td>269200000.0</td>\n",
       "      <td>16500000.0</td>\n",
       "      <td>0.0</td>\n",
       "      <td>0.31</td>\n",
       "      <td>288600000.0</td>\n",
       "    </tr>\n",
       "    <tr>\n",
       "      <th>1983.0</th>\n",
       "      <td>54400000.0</td>\n",
       "      <td>3400000.0</td>\n",
       "      <td>0.0</td>\n",
       "      <td>0.06</td>\n",
       "      <td>58300000.0</td>\n",
       "    </tr>\n",
       "    <tr>\n",
       "      <th>1984.0</th>\n",
       "      <td>2600000.0</td>\n",
       "      <td>100000.0</td>\n",
       "      <td>0.0</td>\n",
       "      <td>0.00</td>\n",
       "      <td>2700000.0</td>\n",
       "    </tr>\n",
       "    <tr>\n",
       "      <th>1985.0</th>\n",
       "      <td>4200000.0</td>\n",
       "      <td>300000.0</td>\n",
       "      <td>0.0</td>\n",
       "      <td>0.00</td>\n",
       "      <td>4500000.0</td>\n",
       "    </tr>\n",
       "    <tr>\n",
       "      <th>1986.0</th>\n",
       "      <td>6300000.0</td>\n",
       "      <td>400000.0</td>\n",
       "      <td>0.0</td>\n",
       "      <td>0.00</td>\n",
       "      <td>6600000.0</td>\n",
       "    </tr>\n",
       "    <tr>\n",
       "      <th>1987.0</th>\n",
       "      <td>18400000.0</td>\n",
       "      <td>900000.0</td>\n",
       "      <td>0.0</td>\n",
       "      <td>0.01</td>\n",
       "      <td>19800000.0</td>\n",
       "    </tr>\n",
       "    <tr>\n",
       "      <th>1988.0</th>\n",
       "      <td>6900000.0</td>\n",
       "      <td>400000.0</td>\n",
       "      <td>0.0</td>\n",
       "      <td>0.01</td>\n",
       "      <td>7500000.0</td>\n",
       "    </tr>\n",
       "    <tr>\n",
       "      <th>1989.0</th>\n",
       "      <td>5900000.0</td>\n",
       "      <td>300000.0</td>\n",
       "      <td>0.0</td>\n",
       "      <td>0.01</td>\n",
       "      <td>6200000.0</td>\n",
       "    </tr>\n",
       "  </tbody>\n",
       "</table>\n",
       "</div>"
      ],
      "text/plain": [
       "                    NA_Sales    EU_Sales  JP_Sales  Other_Sales  Global_Sales\n",
       "Platform Year                                                                \n",
       "2600     1980.0  105900000.0   6700000.0       0.0         0.12   113800000.0\n",
       "         1981.0  334000000.0  19600000.0       0.0         0.32   357700000.0\n",
       "         1982.0  269200000.0  16500000.0       0.0         0.31   288600000.0\n",
       "         1983.0   54400000.0   3400000.0       0.0         0.06    58300000.0\n",
       "         1984.0    2600000.0    100000.0       0.0         0.00     2700000.0\n",
       "         1985.0    4200000.0    300000.0       0.0         0.00     4500000.0\n",
       "         1986.0    6300000.0    400000.0       0.0         0.00     6600000.0\n",
       "         1987.0   18400000.0    900000.0       0.0         0.01    19800000.0\n",
       "         1988.0    6900000.0    400000.0       0.0         0.01     7500000.0\n",
       "         1989.0    5900000.0    300000.0       0.0         0.01     6200000.0"
      ]
     },
     "execution_count": 85,
     "metadata": {},
     "output_type": "execute_result"
    }
   ],
   "source": [
    "videojuegos_ventas_GJ.head(10)"
   ]
  },
  {
   "cell_type": "markdown",
   "metadata": {},
   "source": [
    "### Se necesita sumar a cada anno las ventas del anno anterior por plataforma"
   ]
  },
  {
   "cell_type": "code",
   "execution_count": 86,
   "metadata": {},
   "outputs": [
    {
     "data": {
      "text/html": [
       "<div>\n",
       "<style scoped>\n",
       "    .dataframe tbody tr th:only-of-type {\n",
       "        vertical-align: middle;\n",
       "    }\n",
       "\n",
       "    .dataframe tbody tr th {\n",
       "        vertical-align: top;\n",
       "    }\n",
       "\n",
       "    .dataframe thead th {\n",
       "        text-align: right;\n",
       "    }\n",
       "</style>\n",
       "<table border=\"1\" class=\"dataframe\">\n",
       "  <thead>\n",
       "    <tr style=\"text-align: right;\">\n",
       "      <th></th>\n",
       "      <th></th>\n",
       "      <th>NA_Sales</th>\n",
       "      <th>EU_Sales</th>\n",
       "      <th>JP_Sales</th>\n",
       "      <th>Other_Sales</th>\n",
       "      <th>Global_Sales</th>\n",
       "    </tr>\n",
       "    <tr>\n",
       "      <th>Platform</th>\n",
       "      <th>Year</th>\n",
       "      <th></th>\n",
       "      <th></th>\n",
       "      <th></th>\n",
       "      <th></th>\n",
       "      <th></th>\n",
       "    </tr>\n",
       "  </thead>\n",
       "  <tbody>\n",
       "    <tr>\n",
       "      <th rowspan=\"10\" valign=\"top\">2600</th>\n",
       "      <th>1980.0</th>\n",
       "      <td>105900000.0</td>\n",
       "      <td>6700000.0</td>\n",
       "      <td>0.0</td>\n",
       "      <td>0.12</td>\n",
       "      <td>113800000.0</td>\n",
       "    </tr>\n",
       "    <tr>\n",
       "      <th>1981.0</th>\n",
       "      <td>334000000.0</td>\n",
       "      <td>19600000.0</td>\n",
       "      <td>0.0</td>\n",
       "      <td>0.32</td>\n",
       "      <td>357700000.0</td>\n",
       "    </tr>\n",
       "    <tr>\n",
       "      <th>1982.0</th>\n",
       "      <td>269200000.0</td>\n",
       "      <td>16500000.0</td>\n",
       "      <td>0.0</td>\n",
       "      <td>0.31</td>\n",
       "      <td>288600000.0</td>\n",
       "    </tr>\n",
       "    <tr>\n",
       "      <th>1983.0</th>\n",
       "      <td>54400000.0</td>\n",
       "      <td>3400000.0</td>\n",
       "      <td>0.0</td>\n",
       "      <td>0.06</td>\n",
       "      <td>58300000.0</td>\n",
       "    </tr>\n",
       "    <tr>\n",
       "      <th>1984.0</th>\n",
       "      <td>2600000.0</td>\n",
       "      <td>100000.0</td>\n",
       "      <td>0.0</td>\n",
       "      <td>0.00</td>\n",
       "      <td>2700000.0</td>\n",
       "    </tr>\n",
       "    <tr>\n",
       "      <th>1985.0</th>\n",
       "      <td>4200000.0</td>\n",
       "      <td>300000.0</td>\n",
       "      <td>0.0</td>\n",
       "      <td>0.00</td>\n",
       "      <td>4500000.0</td>\n",
       "    </tr>\n",
       "    <tr>\n",
       "      <th>1986.0</th>\n",
       "      <td>6300000.0</td>\n",
       "      <td>400000.0</td>\n",
       "      <td>0.0</td>\n",
       "      <td>0.00</td>\n",
       "      <td>6600000.0</td>\n",
       "    </tr>\n",
       "    <tr>\n",
       "      <th>1987.0</th>\n",
       "      <td>18400000.0</td>\n",
       "      <td>900000.0</td>\n",
       "      <td>0.0</td>\n",
       "      <td>0.01</td>\n",
       "      <td>19800000.0</td>\n",
       "    </tr>\n",
       "    <tr>\n",
       "      <th>1988.0</th>\n",
       "      <td>6900000.0</td>\n",
       "      <td>400000.0</td>\n",
       "      <td>0.0</td>\n",
       "      <td>0.01</td>\n",
       "      <td>7500000.0</td>\n",
       "    </tr>\n",
       "    <tr>\n",
       "      <th>1989.0</th>\n",
       "      <td>5900000.0</td>\n",
       "      <td>300000.0</td>\n",
       "      <td>0.0</td>\n",
       "      <td>0.01</td>\n",
       "      <td>6200000.0</td>\n",
       "    </tr>\n",
       "  </tbody>\n",
       "</table>\n",
       "</div>"
      ],
      "text/plain": [
       "                    NA_Sales    EU_Sales  JP_Sales  Other_Sales  Global_Sales\n",
       "Platform Year                                                                \n",
       "2600     1980.0  105900000.0   6700000.0       0.0         0.12   113800000.0\n",
       "         1981.0  334000000.0  19600000.0       0.0         0.32   357700000.0\n",
       "         1982.0  269200000.0  16500000.0       0.0         0.31   288600000.0\n",
       "         1983.0   54400000.0   3400000.0       0.0         0.06    58300000.0\n",
       "         1984.0    2600000.0    100000.0       0.0         0.00     2700000.0\n",
       "         1985.0    4200000.0    300000.0       0.0         0.00     4500000.0\n",
       "         1986.0    6300000.0    400000.0       0.0         0.00     6600000.0\n",
       "         1987.0   18400000.0    900000.0       0.0         0.01    19800000.0\n",
       "         1988.0    6900000.0    400000.0       0.0         0.01     7500000.0\n",
       "         1989.0    5900000.0    300000.0       0.0         0.01     6200000.0"
      ]
     },
     "execution_count": 86,
     "metadata": {},
     "output_type": "execute_result"
    }
   ],
   "source": [
    "\n",
    "videojuegos_ventas_GJ.head(10)"
   ]
  },
  {
   "cell_type": "code",
   "execution_count": 87,
   "metadata": {},
   "outputs": [
    {
     "data": {
      "text/plain": [
       "241"
      ]
     },
     "execution_count": 87,
     "metadata": {},
     "output_type": "execute_result"
    }
   ],
   "source": [
    "videojuegos_ventas_GJ.index.__len__()"
   ]
  },
  {
   "cell_type": "markdown",
   "metadata": {},
   "source": [
    "#### Sumamos las ventas de los annos anteriores al anno siguiente en ventas globales"
   ]
  },
  {
   "cell_type": "code",
   "execution_count": 88,
   "metadata": {},
   "outputs": [
    {
     "data": {
      "text/html": [
       "<div>\n",
       "<style scoped>\n",
       "    .dataframe tbody tr th:only-of-type {\n",
       "        vertical-align: middle;\n",
       "    }\n",
       "\n",
       "    .dataframe tbody tr th {\n",
       "        vertical-align: top;\n",
       "    }\n",
       "\n",
       "    .dataframe thead th {\n",
       "        text-align: right;\n",
       "    }\n",
       "</style>\n",
       "<table border=\"1\" class=\"dataframe\">\n",
       "  <thead>\n",
       "    <tr style=\"text-align: right;\">\n",
       "      <th></th>\n",
       "      <th></th>\n",
       "      <th>NA_Sales</th>\n",
       "      <th>EU_Sales</th>\n",
       "      <th>JP_Sales</th>\n",
       "      <th>Other_Sales</th>\n",
       "      <th>Global_Sales</th>\n",
       "    </tr>\n",
       "    <tr>\n",
       "      <th>Platform</th>\n",
       "      <th>Year</th>\n",
       "      <th></th>\n",
       "      <th></th>\n",
       "      <th></th>\n",
       "      <th></th>\n",
       "      <th></th>\n",
       "    </tr>\n",
       "  </thead>\n",
       "  <tbody>\n",
       "    <tr>\n",
       "      <th rowspan=\"10\" valign=\"top\">2600</th>\n",
       "      <th>1980.0</th>\n",
       "      <td>105900000.0</td>\n",
       "      <td>6700000.0</td>\n",
       "      <td>0.0</td>\n",
       "      <td>0.12</td>\n",
       "      <td>113800000.0</td>\n",
       "    </tr>\n",
       "    <tr>\n",
       "      <th>1981.0</th>\n",
       "      <td>334000000.0</td>\n",
       "      <td>19600000.0</td>\n",
       "      <td>0.0</td>\n",
       "      <td>0.32</td>\n",
       "      <td>471500000.0</td>\n",
       "    </tr>\n",
       "    <tr>\n",
       "      <th>1982.0</th>\n",
       "      <td>269200000.0</td>\n",
       "      <td>16500000.0</td>\n",
       "      <td>0.0</td>\n",
       "      <td>0.31</td>\n",
       "      <td>760100000.0</td>\n",
       "    </tr>\n",
       "    <tr>\n",
       "      <th>1983.0</th>\n",
       "      <td>54400000.0</td>\n",
       "      <td>3400000.0</td>\n",
       "      <td>0.0</td>\n",
       "      <td>0.06</td>\n",
       "      <td>818400000.0</td>\n",
       "    </tr>\n",
       "    <tr>\n",
       "      <th>1984.0</th>\n",
       "      <td>2600000.0</td>\n",
       "      <td>100000.0</td>\n",
       "      <td>0.0</td>\n",
       "      <td>0.00</td>\n",
       "      <td>821100000.0</td>\n",
       "    </tr>\n",
       "    <tr>\n",
       "      <th>1985.0</th>\n",
       "      <td>4200000.0</td>\n",
       "      <td>300000.0</td>\n",
       "      <td>0.0</td>\n",
       "      <td>0.00</td>\n",
       "      <td>825600000.0</td>\n",
       "    </tr>\n",
       "    <tr>\n",
       "      <th>1986.0</th>\n",
       "      <td>6300000.0</td>\n",
       "      <td>400000.0</td>\n",
       "      <td>0.0</td>\n",
       "      <td>0.00</td>\n",
       "      <td>832200000.0</td>\n",
       "    </tr>\n",
       "    <tr>\n",
       "      <th>1987.0</th>\n",
       "      <td>18400000.0</td>\n",
       "      <td>900000.0</td>\n",
       "      <td>0.0</td>\n",
       "      <td>0.01</td>\n",
       "      <td>852000000.0</td>\n",
       "    </tr>\n",
       "    <tr>\n",
       "      <th>1988.0</th>\n",
       "      <td>6900000.0</td>\n",
       "      <td>400000.0</td>\n",
       "      <td>0.0</td>\n",
       "      <td>0.01</td>\n",
       "      <td>859500000.0</td>\n",
       "    </tr>\n",
       "    <tr>\n",
       "      <th>1989.0</th>\n",
       "      <td>5900000.0</td>\n",
       "      <td>300000.0</td>\n",
       "      <td>0.0</td>\n",
       "      <td>0.01</td>\n",
       "      <td>865700000.0</td>\n",
       "    </tr>\n",
       "  </tbody>\n",
       "</table>\n",
       "</div>"
      ],
      "text/plain": [
       "                    NA_Sales    EU_Sales  JP_Sales  Other_Sales  Global_Sales\n",
       "Platform Year                                                                \n",
       "2600     1980.0  105900000.0   6700000.0       0.0         0.12   113800000.0\n",
       "         1981.0  334000000.0  19600000.0       0.0         0.32   471500000.0\n",
       "         1982.0  269200000.0  16500000.0       0.0         0.31   760100000.0\n",
       "         1983.0   54400000.0   3400000.0       0.0         0.06   818400000.0\n",
       "         1984.0    2600000.0    100000.0       0.0         0.00   821100000.0\n",
       "         1985.0    4200000.0    300000.0       0.0         0.00   825600000.0\n",
       "         1986.0    6300000.0    400000.0       0.0         0.00   832200000.0\n",
       "         1987.0   18400000.0    900000.0       0.0         0.01   852000000.0\n",
       "         1988.0    6900000.0    400000.0       0.0         0.01   859500000.0\n",
       "         1989.0    5900000.0    300000.0       0.0         0.01   865700000.0"
      ]
     },
     "execution_count": 88,
     "metadata": {},
     "output_type": "execute_result"
    }
   ],
   "source": [
    "\n",
    "for i in range(1,videojuegos_ventas_GJ.index.__len__()):\n",
    "    \n",
    "    videojuegos_ventas_GJ.iloc[i].Global_Sales+=videojuegos_ventas_GJ.iloc[i-1].Global_Sales\n",
    "    \n",
    "videojuegos_ventas_GJ.head(10)"
   ]
  },
  {
   "cell_type": "markdown",
   "metadata": {},
   "source": [
    "#### Lo exportamos a un csv"
   ]
  },
  {
   "cell_type": "code",
   "execution_count": 89,
   "metadata": {},
   "outputs": [],
   "source": [
    "videojuegos_ventas_GJ.to_csv('data/datos_listos_sumados.csv',sep=';', index=True)"
   ]
  },
  {
   "cell_type": "code",
   "execution_count": 90,
   "metadata": {},
   "outputs": [
    {
     "ename": "TypeError",
     "evalue": "'value' must be an instance of str or bytes, not a tuple",
     "output_type": "error",
     "traceback": [
      "\u001b[1;31m---------------------------------------------------------------------------\u001b[0m",
      "\u001b[1;31mTypeError\u001b[0m                                 Traceback (most recent call last)",
      "\u001b[1;32m~\\AppData\\Local\\Temp/ipykernel_14104/1895862622.py\u001b[0m in \u001b[0;36m<module>\u001b[1;34m\u001b[0m\n\u001b[0;32m      3\u001b[0m \u001b[0mplt\u001b[0m\u001b[1;33m.\u001b[0m\u001b[0mxlabel\u001b[0m\u001b[1;33m(\u001b[0m\u001b[1;34m\"Generos\"\u001b[0m\u001b[1;33m)\u001b[0m\u001b[1;33m\u001b[0m\u001b[1;33m\u001b[0m\u001b[0m\n\u001b[0;32m      4\u001b[0m \u001b[0mplt\u001b[0m\u001b[1;33m.\u001b[0m\u001b[0mylabel\u001b[0m\u001b[1;33m(\u001b[0m\u001b[1;34m\"Ventas\"\u001b[0m\u001b[1;33m)\u001b[0m\u001b[1;33m\u001b[0m\u001b[1;33m\u001b[0m\u001b[0m\n\u001b[1;32m----> 5\u001b[1;33m \u001b[0mplt\u001b[0m\u001b[1;33m.\u001b[0m\u001b[0mbar\u001b[0m\u001b[1;33m(\u001b[0m\u001b[0mx\u001b[0m\u001b[1;33m=\u001b[0m\u001b[0mvideojuegos_ventas_GJ\u001b[0m\u001b[1;33m.\u001b[0m\u001b[0mindex\u001b[0m\u001b[1;33m,\u001b[0m \u001b[0mheight\u001b[0m\u001b[1;33m=\u001b[0m\u001b[0mvideojuegos_ventas_GJ\u001b[0m\u001b[1;33m.\u001b[0m\u001b[0mGlobal_Sales\u001b[0m\u001b[1;33m,\u001b[0m\u001b[0mcolor\u001b[0m\u001b[1;33m=\u001b[0m\u001b[1;34m'red'\u001b[0m\u001b[1;33m)\u001b[0m\u001b[1;33m\u001b[0m\u001b[1;33m\u001b[0m\u001b[0m\n\u001b[0m",
      "\u001b[1;32mc:\\Users\\Adrian\\AppData\\Local\\Programs\\Python\\Python310\\lib\\site-packages\\matplotlib\\pyplot.py\u001b[0m in \u001b[0;36mbar\u001b[1;34m(x, height, width, bottom, align, data, **kwargs)\u001b[0m\n\u001b[0;32m   2397\u001b[0m         \u001b[0mx\u001b[0m\u001b[1;33m,\u001b[0m \u001b[0mheight\u001b[0m\u001b[1;33m,\u001b[0m \u001b[0mwidth\u001b[0m\u001b[1;33m=\u001b[0m\u001b[1;36m0.8\u001b[0m\u001b[1;33m,\u001b[0m \u001b[0mbottom\u001b[0m\u001b[1;33m=\u001b[0m\u001b[1;32mNone\u001b[0m\u001b[1;33m,\u001b[0m \u001b[1;33m*\u001b[0m\u001b[1;33m,\u001b[0m \u001b[0malign\u001b[0m\u001b[1;33m=\u001b[0m\u001b[1;34m'center'\u001b[0m\u001b[1;33m,\u001b[0m\u001b[1;33m\u001b[0m\u001b[1;33m\u001b[0m\u001b[0m\n\u001b[0;32m   2398\u001b[0m         data=None, **kwargs):\n\u001b[1;32m-> 2399\u001b[1;33m     return gca().bar(\n\u001b[0m\u001b[0;32m   2400\u001b[0m         \u001b[0mx\u001b[0m\u001b[1;33m,\u001b[0m \u001b[0mheight\u001b[0m\u001b[1;33m,\u001b[0m \u001b[0mwidth\u001b[0m\u001b[1;33m=\u001b[0m\u001b[0mwidth\u001b[0m\u001b[1;33m,\u001b[0m \u001b[0mbottom\u001b[0m\u001b[1;33m=\u001b[0m\u001b[0mbottom\u001b[0m\u001b[1;33m,\u001b[0m \u001b[0malign\u001b[0m\u001b[1;33m=\u001b[0m\u001b[0malign\u001b[0m\u001b[1;33m,\u001b[0m\u001b[1;33m\u001b[0m\u001b[1;33m\u001b[0m\u001b[0m\n\u001b[0;32m   2401\u001b[0m         **({\"data\": data} if data is not None else {}), **kwargs)\n",
      "\u001b[1;32mc:\\Users\\Adrian\\AppData\\Local\\Programs\\Python\\Python310\\lib\\site-packages\\matplotlib\\__init__.py\u001b[0m in \u001b[0;36minner\u001b[1;34m(ax, data, *args, **kwargs)\u001b[0m\n\u001b[0;32m   1410\u001b[0m     \u001b[1;32mdef\u001b[0m \u001b[0minner\u001b[0m\u001b[1;33m(\u001b[0m\u001b[0max\u001b[0m\u001b[1;33m,\u001b[0m \u001b[1;33m*\u001b[0m\u001b[0margs\u001b[0m\u001b[1;33m,\u001b[0m \u001b[0mdata\u001b[0m\u001b[1;33m=\u001b[0m\u001b[1;32mNone\u001b[0m\u001b[1;33m,\u001b[0m \u001b[1;33m**\u001b[0m\u001b[0mkwargs\u001b[0m\u001b[1;33m)\u001b[0m\u001b[1;33m:\u001b[0m\u001b[1;33m\u001b[0m\u001b[1;33m\u001b[0m\u001b[0m\n\u001b[0;32m   1411\u001b[0m         \u001b[1;32mif\u001b[0m \u001b[0mdata\u001b[0m \u001b[1;32mis\u001b[0m \u001b[1;32mNone\u001b[0m\u001b[1;33m:\u001b[0m\u001b[1;33m\u001b[0m\u001b[1;33m\u001b[0m\u001b[0m\n\u001b[1;32m-> 1412\u001b[1;33m             \u001b[1;32mreturn\u001b[0m \u001b[0mfunc\u001b[0m\u001b[1;33m(\u001b[0m\u001b[0max\u001b[0m\u001b[1;33m,\u001b[0m \u001b[1;33m*\u001b[0m\u001b[0mmap\u001b[0m\u001b[1;33m(\u001b[0m\u001b[0msanitize_sequence\u001b[0m\u001b[1;33m,\u001b[0m \u001b[0margs\u001b[0m\u001b[1;33m)\u001b[0m\u001b[1;33m,\u001b[0m \u001b[1;33m**\u001b[0m\u001b[0mkwargs\u001b[0m\u001b[1;33m)\u001b[0m\u001b[1;33m\u001b[0m\u001b[1;33m\u001b[0m\u001b[0m\n\u001b[0m\u001b[0;32m   1413\u001b[0m \u001b[1;33m\u001b[0m\u001b[0m\n\u001b[0;32m   1414\u001b[0m         \u001b[0mbound\u001b[0m \u001b[1;33m=\u001b[0m \u001b[0mnew_sig\u001b[0m\u001b[1;33m.\u001b[0m\u001b[0mbind\u001b[0m\u001b[1;33m(\u001b[0m\u001b[0max\u001b[0m\u001b[1;33m,\u001b[0m \u001b[1;33m*\u001b[0m\u001b[0margs\u001b[0m\u001b[1;33m,\u001b[0m \u001b[1;33m**\u001b[0m\u001b[0mkwargs\u001b[0m\u001b[1;33m)\u001b[0m\u001b[1;33m\u001b[0m\u001b[1;33m\u001b[0m\u001b[0m\n",
      "\u001b[1;32mc:\\Users\\Adrian\\AppData\\Local\\Programs\\Python\\Python310\\lib\\site-packages\\matplotlib\\axes\\_axes.py\u001b[0m in \u001b[0;36mbar\u001b[1;34m(self, x, height, width, bottom, align, **kwargs)\u001b[0m\n\u001b[0;32m   2315\u001b[0m \u001b[1;33m\u001b[0m\u001b[0m\n\u001b[0;32m   2316\u001b[0m         \u001b[1;32mif\u001b[0m \u001b[0morientation\u001b[0m \u001b[1;33m==\u001b[0m \u001b[1;34m'vertical'\u001b[0m\u001b[1;33m:\u001b[0m\u001b[1;33m\u001b[0m\u001b[1;33m\u001b[0m\u001b[0m\n\u001b[1;32m-> 2317\u001b[1;33m             self._process_unit_info(\n\u001b[0m\u001b[0;32m   2318\u001b[0m                 [(\"x\", x), (\"y\", height)], kwargs, convert=False)\n\u001b[0;32m   2319\u001b[0m             \u001b[1;32mif\u001b[0m \u001b[0mlog\u001b[0m\u001b[1;33m:\u001b[0m\u001b[1;33m\u001b[0m\u001b[1;33m\u001b[0m\u001b[0m\n",
      "\u001b[1;32mc:\\Users\\Adrian\\AppData\\Local\\Programs\\Python\\Python310\\lib\\site-packages\\matplotlib\\axes\\_base.py\u001b[0m in \u001b[0;36m_process_unit_info\u001b[1;34m(self, datasets, kwargs, convert)\u001b[0m\n\u001b[0;32m   2524\u001b[0m             \u001b[1;31m# Update from data if axis is already set but no unit is set yet.\u001b[0m\u001b[1;33m\u001b[0m\u001b[1;33m\u001b[0m\u001b[0m\n\u001b[0;32m   2525\u001b[0m             \u001b[1;32mif\u001b[0m \u001b[0maxis\u001b[0m \u001b[1;32mis\u001b[0m \u001b[1;32mnot\u001b[0m \u001b[1;32mNone\u001b[0m \u001b[1;32mand\u001b[0m \u001b[0mdata\u001b[0m \u001b[1;32mis\u001b[0m \u001b[1;32mnot\u001b[0m \u001b[1;32mNone\u001b[0m \u001b[1;32mand\u001b[0m \u001b[1;32mnot\u001b[0m \u001b[0maxis\u001b[0m\u001b[1;33m.\u001b[0m\u001b[0mhave_units\u001b[0m\u001b[1;33m(\u001b[0m\u001b[1;33m)\u001b[0m\u001b[1;33m:\u001b[0m\u001b[1;33m\u001b[0m\u001b[1;33m\u001b[0m\u001b[0m\n\u001b[1;32m-> 2526\u001b[1;33m                 \u001b[0maxis\u001b[0m\u001b[1;33m.\u001b[0m\u001b[0mupdate_units\u001b[0m\u001b[1;33m(\u001b[0m\u001b[0mdata\u001b[0m\u001b[1;33m)\u001b[0m\u001b[1;33m\u001b[0m\u001b[1;33m\u001b[0m\u001b[0m\n\u001b[0m\u001b[0;32m   2527\u001b[0m         \u001b[1;32mfor\u001b[0m \u001b[0maxis_name\u001b[0m\u001b[1;33m,\u001b[0m \u001b[0maxis\u001b[0m \u001b[1;32min\u001b[0m \u001b[0maxis_map\u001b[0m\u001b[1;33m.\u001b[0m\u001b[0mitems\u001b[0m\u001b[1;33m(\u001b[0m\u001b[1;33m)\u001b[0m\u001b[1;33m:\u001b[0m\u001b[1;33m\u001b[0m\u001b[1;33m\u001b[0m\u001b[0m\n\u001b[0;32m   2528\u001b[0m             \u001b[1;31m# Return if no axis is set.\u001b[0m\u001b[1;33m\u001b[0m\u001b[1;33m\u001b[0m\u001b[0m\n",
      "\u001b[1;32mc:\\Users\\Adrian\\AppData\\Local\\Programs\\Python\\Python310\\lib\\site-packages\\matplotlib\\axis.py\u001b[0m in \u001b[0;36mupdate_units\u001b[1;34m(self, data)\u001b[0m\n\u001b[0;32m   1447\u001b[0m         \u001b[0mneednew\u001b[0m \u001b[1;33m=\u001b[0m \u001b[0mself\u001b[0m\u001b[1;33m.\u001b[0m\u001b[0mconverter\u001b[0m \u001b[1;33m!=\u001b[0m \u001b[0mconverter\u001b[0m\u001b[1;33m\u001b[0m\u001b[1;33m\u001b[0m\u001b[0m\n\u001b[0;32m   1448\u001b[0m         \u001b[0mself\u001b[0m\u001b[1;33m.\u001b[0m\u001b[0mconverter\u001b[0m \u001b[1;33m=\u001b[0m \u001b[0mconverter\u001b[0m\u001b[1;33m\u001b[0m\u001b[1;33m\u001b[0m\u001b[0m\n\u001b[1;32m-> 1449\u001b[1;33m         \u001b[0mdefault\u001b[0m \u001b[1;33m=\u001b[0m \u001b[0mself\u001b[0m\u001b[1;33m.\u001b[0m\u001b[0mconverter\u001b[0m\u001b[1;33m.\u001b[0m\u001b[0mdefault_units\u001b[0m\u001b[1;33m(\u001b[0m\u001b[0mdata\u001b[0m\u001b[1;33m,\u001b[0m \u001b[0mself\u001b[0m\u001b[1;33m)\u001b[0m\u001b[1;33m\u001b[0m\u001b[1;33m\u001b[0m\u001b[0m\n\u001b[0m\u001b[0;32m   1450\u001b[0m         \u001b[1;32mif\u001b[0m \u001b[0mdefault\u001b[0m \u001b[1;32mis\u001b[0m \u001b[1;32mnot\u001b[0m \u001b[1;32mNone\u001b[0m \u001b[1;32mand\u001b[0m \u001b[0mself\u001b[0m\u001b[1;33m.\u001b[0m\u001b[0munits\u001b[0m \u001b[1;32mis\u001b[0m \u001b[1;32mNone\u001b[0m\u001b[1;33m:\u001b[0m\u001b[1;33m\u001b[0m\u001b[1;33m\u001b[0m\u001b[0m\n\u001b[0;32m   1451\u001b[0m             \u001b[0mself\u001b[0m\u001b[1;33m.\u001b[0m\u001b[0mset_units\u001b[0m\u001b[1;33m(\u001b[0m\u001b[0mdefault\u001b[0m\u001b[1;33m)\u001b[0m\u001b[1;33m\u001b[0m\u001b[1;33m\u001b[0m\u001b[0m\n",
      "\u001b[1;32mc:\\Users\\Adrian\\AppData\\Local\\Programs\\Python\\Python310\\lib\\site-packages\\matplotlib\\category.py\u001b[0m in \u001b[0;36mdefault_units\u001b[1;34m(data, axis)\u001b[0m\n\u001b[0;32m    114\u001b[0m         \u001b[1;31m# the conversion call stack is default_units -> axis_info -> convert\u001b[0m\u001b[1;33m\u001b[0m\u001b[1;33m\u001b[0m\u001b[0m\n\u001b[0;32m    115\u001b[0m         \u001b[1;32mif\u001b[0m \u001b[0maxis\u001b[0m\u001b[1;33m.\u001b[0m\u001b[0munits\u001b[0m \u001b[1;32mis\u001b[0m \u001b[1;32mNone\u001b[0m\u001b[1;33m:\u001b[0m\u001b[1;33m\u001b[0m\u001b[1;33m\u001b[0m\u001b[0m\n\u001b[1;32m--> 116\u001b[1;33m             \u001b[0maxis\u001b[0m\u001b[1;33m.\u001b[0m\u001b[0mset_units\u001b[0m\u001b[1;33m(\u001b[0m\u001b[0mUnitData\u001b[0m\u001b[1;33m(\u001b[0m\u001b[0mdata\u001b[0m\u001b[1;33m)\u001b[0m\u001b[1;33m)\u001b[0m\u001b[1;33m\u001b[0m\u001b[1;33m\u001b[0m\u001b[0m\n\u001b[0m\u001b[0;32m    117\u001b[0m         \u001b[1;32melse\u001b[0m\u001b[1;33m:\u001b[0m\u001b[1;33m\u001b[0m\u001b[1;33m\u001b[0m\u001b[0m\n\u001b[0;32m    118\u001b[0m             \u001b[0maxis\u001b[0m\u001b[1;33m.\u001b[0m\u001b[0munits\u001b[0m\u001b[1;33m.\u001b[0m\u001b[0mupdate\u001b[0m\u001b[1;33m(\u001b[0m\u001b[0mdata\u001b[0m\u001b[1;33m)\u001b[0m\u001b[1;33m\u001b[0m\u001b[1;33m\u001b[0m\u001b[0m\n",
      "\u001b[1;32mc:\\Users\\Adrian\\AppData\\Local\\Programs\\Python\\Python310\\lib\\site-packages\\matplotlib\\category.py\u001b[0m in \u001b[0;36m__init__\u001b[1;34m(self, data)\u001b[0m\n\u001b[0;32m    190\u001b[0m         \u001b[0mself\u001b[0m\u001b[1;33m.\u001b[0m\u001b[0m_counter\u001b[0m \u001b[1;33m=\u001b[0m \u001b[0mitertools\u001b[0m\u001b[1;33m.\u001b[0m\u001b[0mcount\u001b[0m\u001b[1;33m(\u001b[0m\u001b[1;33m)\u001b[0m\u001b[1;33m\u001b[0m\u001b[1;33m\u001b[0m\u001b[0m\n\u001b[0;32m    191\u001b[0m         \u001b[1;32mif\u001b[0m \u001b[0mdata\u001b[0m \u001b[1;32mis\u001b[0m \u001b[1;32mnot\u001b[0m \u001b[1;32mNone\u001b[0m\u001b[1;33m:\u001b[0m\u001b[1;33m\u001b[0m\u001b[1;33m\u001b[0m\u001b[0m\n\u001b[1;32m--> 192\u001b[1;33m             \u001b[0mself\u001b[0m\u001b[1;33m.\u001b[0m\u001b[0mupdate\u001b[0m\u001b[1;33m(\u001b[0m\u001b[0mdata\u001b[0m\u001b[1;33m)\u001b[0m\u001b[1;33m\u001b[0m\u001b[1;33m\u001b[0m\u001b[0m\n\u001b[0m\u001b[0;32m    193\u001b[0m \u001b[1;33m\u001b[0m\u001b[0m\n\u001b[0;32m    194\u001b[0m     \u001b[1;33m@\u001b[0m\u001b[0mstaticmethod\u001b[0m\u001b[1;33m\u001b[0m\u001b[1;33m\u001b[0m\u001b[0m\n",
      "\u001b[1;32mc:\\Users\\Adrian\\AppData\\Local\\Programs\\Python\\Python310\\lib\\site-packages\\matplotlib\\category.py\u001b[0m in \u001b[0;36mupdate\u001b[1;34m(self, data)\u001b[0m\n\u001b[0;32m    225\u001b[0m         \u001b[1;32mfor\u001b[0m \u001b[0mval\u001b[0m \u001b[1;32min\u001b[0m \u001b[0mOrderedDict\u001b[0m\u001b[1;33m.\u001b[0m\u001b[0mfromkeys\u001b[0m\u001b[1;33m(\u001b[0m\u001b[0mdata\u001b[0m\u001b[1;33m)\u001b[0m\u001b[1;33m:\u001b[0m\u001b[1;33m\u001b[0m\u001b[1;33m\u001b[0m\u001b[0m\n\u001b[0;32m    226\u001b[0m             \u001b[1;31m# OrderedDict just iterates over unique values in data.\u001b[0m\u001b[1;33m\u001b[0m\u001b[1;33m\u001b[0m\u001b[0m\n\u001b[1;32m--> 227\u001b[1;33m             \u001b[0m_api\u001b[0m\u001b[1;33m.\u001b[0m\u001b[0mcheck_isinstance\u001b[0m\u001b[1;33m(\u001b[0m\u001b[1;33m(\u001b[0m\u001b[0mstr\u001b[0m\u001b[1;33m,\u001b[0m \u001b[0mbytes\u001b[0m\u001b[1;33m)\u001b[0m\u001b[1;33m,\u001b[0m \u001b[0mvalue\u001b[0m\u001b[1;33m=\u001b[0m\u001b[0mval\u001b[0m\u001b[1;33m)\u001b[0m\u001b[1;33m\u001b[0m\u001b[1;33m\u001b[0m\u001b[0m\n\u001b[0m\u001b[0;32m    228\u001b[0m             \u001b[1;32mif\u001b[0m \u001b[0mconvertible\u001b[0m\u001b[1;33m:\u001b[0m\u001b[1;33m\u001b[0m\u001b[1;33m\u001b[0m\u001b[0m\n\u001b[0;32m    229\u001b[0m                 \u001b[1;31m# this will only be called so long as convertible is True.\u001b[0m\u001b[1;33m\u001b[0m\u001b[1;33m\u001b[0m\u001b[0m\n",
      "\u001b[1;32mc:\\Users\\Adrian\\AppData\\Local\\Programs\\Python\\Python310\\lib\\site-packages\\matplotlib\\_api\\__init__.py\u001b[0m in \u001b[0;36mcheck_isinstance\u001b[1;34m(_types, **kwargs)\u001b[0m\n\u001b[0;32m     91\u001b[0m                 \u001b[0mnames\u001b[0m\u001b[1;33m.\u001b[0m\u001b[0mremove\u001b[0m\u001b[1;33m(\u001b[0m\u001b[1;34m\"None\"\u001b[0m\u001b[1;33m)\u001b[0m\u001b[1;33m\u001b[0m\u001b[1;33m\u001b[0m\u001b[0m\n\u001b[0;32m     92\u001b[0m                 \u001b[0mnames\u001b[0m\u001b[1;33m.\u001b[0m\u001b[0mappend\u001b[0m\u001b[1;33m(\u001b[0m\u001b[1;34m\"None\"\u001b[0m\u001b[1;33m)\u001b[0m\u001b[1;33m\u001b[0m\u001b[1;33m\u001b[0m\u001b[0m\n\u001b[1;32m---> 93\u001b[1;33m             raise TypeError(\n\u001b[0m\u001b[0;32m     94\u001b[0m                 \"{!r} must be an instance of {}, not a {}\".format(\n\u001b[0;32m     95\u001b[0m                     \u001b[0mk\u001b[0m\u001b[1;33m,\u001b[0m\u001b[1;33m\u001b[0m\u001b[1;33m\u001b[0m\u001b[0m\n",
      "\u001b[1;31mTypeError\u001b[0m: 'value' must be an instance of str or bytes, not a tuple"
     ]
    },
    {
     "data": {
      "image/png": "[encoded data removed]",
      "text/plain": [
       "<Figure size 1440x576 with 1 Axes>"
      ]
     },
     "metadata": {
      "needs_background": "light"
     },
     "output_type": "display_data"
    }
   ],
   "source": [
    "\n",
    "\n",
    "plt.figure(figsize=(20,8))\n",
    "plt.title('Ventas NorteAmerica (seguramente shooters)')\n",
    "plt.xlabel(\"Generos\")\n",
    "plt.ylabel(\"Ventas\")\n",
    "plt.bar(x=videojuegos_ventas_GJ.index, height=videojuegos_ventas_GJ.Global_Sales,color='red')"
   ]
  }
 ],
 "metadata": {
  "interpreter": {
   "hash": "79e2c953b88fc71b6c3c1dbda58af322da5a9c58bab14d6cfec9d635fb737f03"
  },
  "kernelspec": {
   "display_name": "Python 3.10.0 64-bit",
   "language": "python",
   "name": "python3"
  },
  "language_info": {
   "codemirror_mode": {
    "name": "ipython",
    "version": 3
   },
   "file_extension": ".py",
   "mimetype": "text/x-python",
   "name": "python",
   "nbconvert_exporter": "python",
   "pygments_lexer": "ipython3",
   "version": "3.10.0"
  },
  "orig_nbformat": 4
 },
 "nbformat": 4,
 "nbformat_minor": 2
}
